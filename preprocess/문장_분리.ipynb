{
  "cells": [
    {
      "cell_type": "code",
      "execution_count": 1,
      "metadata": {
        "colab": {
          "base_uri": "https://localhost:8080/"
        },
        "id": "moJZ1wz2JFA_",
        "outputId": "52cfdfb5-a7c6-47ff-91cc-0b377fe99d7d"
      },
      "outputs": [
        {
          "name": "stdout",
          "output_type": "stream",
          "text": [
            "Mounted at /content/drive\n"
          ]
        }
      ],
      "source": [
        "from google.colab import drive\n",
        "drive.mount('/content/drive')"
      ]
    },
    {
      "cell_type": "code",
      "execution_count": null,
      "metadata": {
        "id": "J4Y0886YPrI4"
      },
      "outputs": [],
      "source": [
        "import pandas as pd\n",
        "import numpy as np\n",
        "from pandas import DataFrame\n",
        "import kss"
      ]
    },
    {
      "cell_type": "markdown",
      "metadata": {
        "id": "7KV1WjkF22Vc"
      },
      "source": [
        "## 문장 분리"
      ]
    },
    {
      "cell_type": "code",
      "execution_count": null,
      "metadata": {
        "colab": {
          "base_uri": "https://localhost:8080/",
          "height": 320
        },
        "id": "Dxtw4GtY3vtO",
        "outputId": "900a2809-b444-4dd9-aa6f-f65b81419029"
      },
      "outputs": [
        {
          "data": {
            "text/html": [
              "\n",
              "  <div id=\"df-97d06ea2-83fa-413b-9b16-ddf4a74b63b2\">\n",
              "    <div class=\"colab-df-container\">\n",
              "      <div>\n",
              "<style scoped>\n",
              "    .dataframe tbody tr th:only-of-type {\n",
              "        vertical-align: middle;\n",
              "    }\n",
              "\n",
              "    .dataframe tbody tr th {\n",
              "        vertical-align: top;\n",
              "    }\n",
              "\n",
              "    .dataframe thead th {\n",
              "        text-align: right;\n",
              "    }\n",
              "</style>\n",
              "<table border=\"1\" class=\"dataframe\">\n",
              "  <thead>\n",
              "    <tr style=\"text-align: right;\">\n",
              "      <th></th>\n",
              "      <th>title</th>\n",
              "      <th>result</th>\n",
              "    </tr>\n",
              "  </thead>\n",
              "  <tbody>\n",
              "    <tr>\n",
              "      <th>0</th>\n",
              "      <td>ICT 분야 정부 R&amp;D 지원의 효과성 분석.pdf</td>\n",
              "      <td>결론</td>\n",
              "    </tr>\n",
              "    <tr>\n",
              "      <th>1</th>\n",
              "      <td>라이프스타일을 반영한 주거공간 디자인 특성 연구 -아파트 모델하우스를 중심으로-.pdf</td>\n",
              "      <td>사용자의 라이프스타일 변화에 따른 가치 추구 변화에 따라 삶의 질적 향상 추구를 위...</td>\n",
              "    </tr>\n",
              "    <tr>\n",
              "      <th>2</th>\n",
              "      <td>딥 러닝을 이용한 비디오 카메라 모델 판별 시스템.pdf</td>\n",
              "      <td>본 논문에서는 동영상을 이용한 비디오카메라 모델 판별을 위한 방법을 제안하였다. 먼...</td>\n",
              "    </tr>\n",
              "    <tr>\n",
              "      <th>3</th>\n",
              "      <td>레이더시스템의 등 간격 선형 배열 안테나에서 시간 지연 보상 알고리즘 연구.pdf</td>\n",
              "      <td>결론 본 연구에서는 FMCW 레이더에서의 거리 측정을 정확하게 추정하기 위해서 지연...</td>\n",
              "    </tr>\n",
              "    <tr>\n",
              "      <th>4</th>\n",
              "      <td>미래에너지의 사회적 수용성에 대한 행동경제학적 접근 프레임 효과에 대한 네트워크분석...</td>\n",
              "      <td>결론 본 논문은 수소핵융합과 관련된 언론 보도를 통하여 일반 시민에게 전달되는 메시...</td>\n",
              "    </tr>\n",
              "  </tbody>\n",
              "</table>\n",
              "</div>\n",
              "      <button class=\"colab-df-convert\" onclick=\"convertToInteractive('df-97d06ea2-83fa-413b-9b16-ddf4a74b63b2')\"\n",
              "              title=\"Convert this dataframe to an interactive table.\"\n",
              "              style=\"display:none;\">\n",
              "        \n",
              "  <svg xmlns=\"http://www.w3.org/2000/svg\" height=\"24px\"viewBox=\"0 0 24 24\"\n",
              "       width=\"24px\">\n",
              "    <path d=\"M0 0h24v24H0V0z\" fill=\"none\"/>\n",
              "    <path d=\"M18.56 5.44l.94 2.06.94-2.06 2.06-.94-2.06-.94-.94-2.06-.94 2.06-2.06.94zm-11 1L8.5 8.5l.94-2.06 2.06-.94-2.06-.94L8.5 2.5l-.94 2.06-2.06.94zm10 10l.94 2.06.94-2.06 2.06-.94-2.06-.94-.94-2.06-.94 2.06-2.06.94z\"/><path d=\"M17.41 7.96l-1.37-1.37c-.4-.4-.92-.59-1.43-.59-.52 0-1.04.2-1.43.59L10.3 9.45l-7.72 7.72c-.78.78-.78 2.05 0 2.83L4 21.41c.39.39.9.59 1.41.59.51 0 1.02-.2 1.41-.59l7.78-7.78 2.81-2.81c.8-.78.8-2.07 0-2.86zM5.41 20L4 18.59l7.72-7.72 1.47 1.35L5.41 20z\"/>\n",
              "  </svg>\n",
              "      </button>\n",
              "      \n",
              "  <style>\n",
              "    .colab-df-container {\n",
              "      display:flex;\n",
              "      flex-wrap:wrap;\n",
              "      gap: 12px;\n",
              "    }\n",
              "\n",
              "    .colab-df-convert {\n",
              "      background-color: #E8F0FE;\n",
              "      border: none;\n",
              "      border-radius: 50%;\n",
              "      cursor: pointer;\n",
              "      display: none;\n",
              "      fill: #1967D2;\n",
              "      height: 32px;\n",
              "      padding: 0 0 0 0;\n",
              "      width: 32px;\n",
              "    }\n",
              "\n",
              "    .colab-df-convert:hover {\n",
              "      background-color: #E2EBFA;\n",
              "      box-shadow: 0px 1px 2px rgba(60, 64, 67, 0.3), 0px 1px 3px 1px rgba(60, 64, 67, 0.15);\n",
              "      fill: #174EA6;\n",
              "    }\n",
              "\n",
              "    [theme=dark] .colab-df-convert {\n",
              "      background-color: #3B4455;\n",
              "      fill: #D2E3FC;\n",
              "    }\n",
              "\n",
              "    [theme=dark] .colab-df-convert:hover {\n",
              "      background-color: #434B5C;\n",
              "      box-shadow: 0px 1px 3px 1px rgba(0, 0, 0, 0.15);\n",
              "      filter: drop-shadow(0px 1px 2px rgba(0, 0, 0, 0.3));\n",
              "      fill: #FFFFFF;\n",
              "    }\n",
              "  </style>\n",
              "\n",
              "      <script>\n",
              "        const buttonEl =\n",
              "          document.querySelector('#df-97d06ea2-83fa-413b-9b16-ddf4a74b63b2 button.colab-df-convert');\n",
              "        buttonEl.style.display =\n",
              "          google.colab.kernel.accessAllowed ? 'block' : 'none';\n",
              "\n",
              "        async function convertToInteractive(key) {\n",
              "          const element = document.querySelector('#df-97d06ea2-83fa-413b-9b16-ddf4a74b63b2');\n",
              "          const dataTable =\n",
              "            await google.colab.kernel.invokeFunction('convertToInteractive',\n",
              "                                                     [key], {});\n",
              "          if (!dataTable) return;\n",
              "\n",
              "          const docLinkHtml = 'Like what you see? Visit the ' +\n",
              "            '<a target=\"_blank\" href=https://colab.research.google.com/notebooks/data_table.ipynb>data table notebook</a>'\n",
              "            + ' to learn more about interactive tables.';\n",
              "          element.innerHTML = '';\n",
              "          dataTable['output_type'] = 'display_data';\n",
              "          await google.colab.output.renderOutput(dataTable, element);\n",
              "          const docLink = document.createElement('div');\n",
              "          docLink.innerHTML = docLinkHtml;\n",
              "          element.appendChild(docLink);\n",
              "        }\n",
              "      </script>\n",
              "    </div>\n",
              "  </div>\n",
              "  "
            ],
            "text/plain": [
              "                                               title  \\\n",
              "0                       ICT 분야 정부 R&D 지원의 효과성 분석.pdf   \n",
              "1   라이프스타일을 반영한 주거공간 디자인 특성 연구 -아파트 모델하우스를 중심으로-.pdf   \n",
              "2                    딥 러닝을 이용한 비디오 카메라 모델 판별 시스템.pdf   \n",
              "3      레이더시스템의 등 간격 선형 배열 안테나에서 시간 지연 보상 알고리즘 연구.pdf   \n",
              "4  미래에너지의 사회적 수용성에 대한 행동경제학적 접근 프레임 효과에 대한 네트워크분석...   \n",
              "\n",
              "                                              result  \n",
              "0                                                결론   \n",
              "1  사용자의 라이프스타일 변화에 따른 가치 추구 변화에 따라 삶의 질적 향상 추구를 위...  \n",
              "2  본 논문에서는 동영상을 이용한 비디오카메라 모델 판별을 위한 방법을 제안하였다. 먼...  \n",
              "3  결론 본 연구에서는 FMCW 레이더에서의 거리 측정을 정확하게 추정하기 위해서 지연...  \n",
              "4  결론 본 논문은 수소핵융합과 관련된 언론 보도를 통하여 일반 시민에게 전달되는 메시...  "
            ]
          },
          "execution_count": 6,
          "metadata": {},
          "output_type": "execute_result"
        }
      ],
      "source": [
        "thesis = pd.read_excel('논문결론.xlsx')\n",
        "\n",
        "def pre2(x) : \n",
        "  x = x.strip(\"('\"\"',)\")\n",
        "  return x\n",
        "\n",
        "thesis['title'] = thesis['title'].transform(pre2)\n",
        "\n",
        "thesis = thesis.drop(['Unnamed: 0', 'sentence'], axis=1)\n",
        "\n",
        "for col in thesis.columns : \n",
        "    thesis['result'] = thesis['result'].astype(\"string\")\n",
        "\n",
        "thesis = thesis.dropna(axis=0)\n",
        "\n",
        "thesis.head()"
      ]
    },
    {
      "cell_type": "code",
      "execution_count": null,
      "metadata": {
        "colab": {
          "base_uri": "https://localhost:8080/"
        },
        "id": "N2TUBabx3-yK",
        "outputId": "8301a844-f4c0-43e4-8fdf-63c19d36b314"
      },
      "outputs": [
        {
          "name": "stderr",
          "output_type": "stream",
          "text": [
            "[Korean Sentence Splitter]: Initializing Pynori...\n"
          ]
        }
      ],
      "source": [
        "resdf = pd.DataFrame({\n",
        "    'title' : [],\n",
        "    'sentence' : []\n",
        "})\n",
        "\n",
        "def spl(df) : \n",
        "  if len(df[1])<10000:\n",
        "    global resdf\n",
        "    res = kss.split_sentences(df[1])\n",
        "    title = []\n",
        "    for i in res:\n",
        "      title.append(df[0])\n",
        "    plusdf = pd.DataFrame({\n",
        "        'title' : title,\n",
        "        'sentence' : res\n",
        "    })\n",
        "    resdf = pd.concat([resdf, plusdf])\n",
        "    \n",
        "thesis.apply(spl, axis=1)\n",
        "resdf"
      ]
    },
    {
      "cell_type": "code",
      "execution_count": null,
      "metadata": {
        "id": "PVSecNgccG20"
      },
      "outputs": [],
      "source": [
        "resdf.to_excel(excel_writer='/content/drive/My Drive/디비/결론추출.xlsx')"
      ]
    }
  ],
  "metadata": {
    "colab": {
      "collapsed_sections": [],
      "name": "문장 분리.ipynb",
      "provenance": []
    },
    "kernelspec": {
      "display_name": "Python 3",
      "name": "python3"
    },
    "language_info": {
      "name": "python"
    }
  },
  "nbformat": 4,
  "nbformat_minor": 0
}
